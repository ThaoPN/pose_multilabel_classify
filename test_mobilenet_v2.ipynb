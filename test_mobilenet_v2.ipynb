{
 "cells": [
  {
   "cell_type": "markdown",
   "metadata": {},
   "source": [
    "## Import"
   ]
  },
  {
   "cell_type": "code",
   "execution_count": 8,
   "metadata": {},
   "outputs": [],
   "source": [
    "from keras.preprocessing.image import ImageDataGenerator\n",
    "from keras.preprocessing.image import img_to_array\n",
    "from keras.models import load_model\n",
    "from sklearn.preprocessing import MultiLabelBinarizer\n",
    "from sklearn.model_selection import train_test_split\n",
    "import matplotlib.pyplot as plt\n",
    "from imutils import paths\n",
    "import numpy as np\n",
    "import random\n",
    "import pickle\n",
    "import cv2\n",
    "import os"
   ]
  },
  {
   "cell_type": "markdown",
   "metadata": {},
   "source": [
    "### Define"
   ]
  },
  {
   "cell_type": "code",
   "execution_count": 2,
   "metadata": {},
   "outputs": [],
   "source": [
    "EPOCHS = 75\n",
    "INIT_LR = 1e-3\n",
    "BS = 32\n",
    "IMAGE_DIMS = (224, 224, 3)"
   ]
  },
  {
   "cell_type": "markdown",
   "metadata": {},
   "source": [
    "## Functions"
   ]
  },
  {
   "cell_type": "code",
   "execution_count": 3,
   "metadata": {},
   "outputs": [],
   "source": [
    "def print_label_details(labels):\n",
    "\n",
    "    print(len(labels))\n",
    "\n",
    "    count_h = 0\n",
    "    count_n = 0\n",
    "    count_bending = 0\n",
    "    count_couching = 0\n",
    "    count_others = 0\n",
    "    count_standing = 0\n",
    "    for label in labels:\n",
    "        if label[0] == 1:\n",
    "            count_bending += 1\n",
    "        if label[1] == 1:\n",
    "            count_couching += 1\n",
    "        if label[2] == 1:\n",
    "            count_h += 1\n",
    "        if label[3] == 1:\n",
    "            count_n += 1\n",
    "        if label[4] == 1:\n",
    "            count_others += 1\n",
    "        if label[5] == 1:\n",
    "            count_standing += 1\n",
    "\n",
    "    print(\"bending: {}\\ncrouching: {}\\n_h: {}\\n_n: {} \\nothers: {}\\nstanding: {}\".format(count_bending, \n",
    "                                                                                         count_couching, \n",
    "                                                                                         count_h, \n",
    "                                                                                         count_n, \n",
    "                                                                                         count_others, \n",
    "                                                                                         count_standing))\n",
    "    \n",
    "\n",
    "def get_files_path(path, file_extension):\n",
    "    file_content = []\n",
    "    for root, dirs, files in os.walk(path):\n",
    "        for file in files:\n",
    "            lower_file = file.lower()\n",
    "            if lower_file.endswith(file_extension):\n",
    "                file_path = os.path.join(path, file)\n",
    "                file_content.append(file_path)\n",
    "        break\n",
    "    return file_content\n",
    "\n",
    "\n",
    "def prediction(file_path, model, mlb):\n",
    "    image = cv2.imread(file_path)\n",
    "\n",
    "    # pre-process the image for classification\n",
    "    image = cv2.resize(image, (224, 224))\n",
    "    image = image.astype(\"float\") / 255.0\n",
    "    image = img_to_array(image)\n",
    "    image = np.expand_dims(image, axis=0)\n",
    "\n",
    "    # prediction\n",
    "    proba = model.predict(image)[0]\n",
    "    idxs = np.argsort(proba)[::-1][:2]\n",
    "    \n",
    "    # build the label \n",
    "    label = \"{}_{}\".format(mlb.classes_[idxs[0]], mlb.classes_[idxs[1]])\n",
    "    \n",
    "    return label\n",
    "\n",
    "def grid_display(list_of_images, list_of_titles=[], no_of_columns=2, figsize=(10,10)):\n",
    "\n",
    "    fig = plt.figure(figsize=figsize)\n",
    "    column = 0\n",
    "    for i in range(len(list_of_images)):\n",
    "        column += 1\n",
    "        #  check for end of column and create a new figure\n",
    "        if column == no_of_columns+1:\n",
    "            fig = plt.figure(figsize=figsize)\n",
    "            column = 1\n",
    "        fig.add_subplot(1, no_of_columns, column)\n",
    "        plt.imshow(list_of_images[i])\n",
    "        plt.axis('off')\n",
    "        if len(list_of_titles) >= len(list_of_images):\n",
    "            plt.title(list_of_titles[i])"
   ]
  },
  {
   "cell_type": "markdown",
   "metadata": {},
   "source": [
    "## Testing"
   ]
  },
  {
   "cell_type": "code",
   "execution_count": 4,
   "metadata": {},
   "outputs": [
    {
     "name": "stdout",
     "output_type": "stream",
     "text": [
      "225\n"
     ]
    }
   ],
   "source": [
    "# Load images\n",
    "test_image_paths = sorted(list(paths.list_images('./pose_dataset/test_set')))\n",
    "random.seed(42)\n",
    "random.shuffle(test_image_paths)\n",
    "print(len(test_image_paths))"
   ]
  },
  {
   "cell_type": "code",
   "execution_count": 5,
   "metadata": {},
   "outputs": [
    {
     "name": "stdout",
     "output_type": "stream",
     "text": [
      "[INFO] data matrix: 225 images (264.60MB)\n",
      "[INFO] class labels:\n",
      "1. bending\n",
      "2. crouching\n",
      "3. h\n",
      "4. n\n",
      "5. others\n",
      "6. standing\n",
      "225\n",
      "bending: 60\n",
      "crouching: 45\n",
      "_h: 111\n",
      "_n: 114 \n",
      "others: 60\n",
      "standing: 60\n"
     ]
    }
   ],
   "source": [
    "test_data = []\n",
    "test_labels = []\n",
    "\n",
    "# loop over the input images\n",
    "for test_image_path in test_image_paths:\n",
    "    # load the image, pre-process it, and store it in the data list\n",
    "    image = cv2.imread(test_image_path)\n",
    "    image = cv2.resize(image, (IMAGE_DIMS[1], IMAGE_DIMS[0]))\n",
    "    image = img_to_array(image)\n",
    "    test_data.append(image)\n",
    "\n",
    "    # extract set of class labels from the image path and update the\n",
    "    # labels list\n",
    "    l = label = test_image_path.split(os.path.sep)[-2].split(\"_\")\n",
    "    test_labels.append(l)\n",
    "    \n",
    "# scale the raw pixel intensities to the range [0, 1]\n",
    "test_data = np.array(test_data, dtype=\"float\") / 255.0\n",
    "test_labels = np.array(test_labels)\n",
    "print(\"[INFO] data matrix: {} images ({:.2f}MB)\".format(\n",
    "    len(test_image_paths), test_data.nbytes / (1024 * 1000.0)))\n",
    "\n",
    "# binarize the labels using scikit-learn's special multi-label\n",
    "# binarizer implementation\n",
    "print(\"[INFO] class labels:\")\n",
    "test_mlb = MultiLabelBinarizer()\n",
    "test_labels = test_mlb.fit_transform(test_labels)\n",
    "\n",
    "# loop over each of the possible class labels and show them\n",
    "for (i, label) in enumerate(test_mlb.classes_):\n",
    "    print(\"{}. {}\".format(i + 1, label))\n",
    "    \n",
    "print_label_details(test_labels)"
   ]
  },
  {
   "cell_type": "code",
   "execution_count": 9,
   "metadata": {},
   "outputs": [],
   "source": [
    "# construct the image generator\n",
    "test_generator = ImageDataGenerator().flow(test_data, test_labels, batch_size=BS)\n",
    "steps_test = test_generator.n / BS\n",
    "\n",
    "# load model\n",
    "_model = load_model('pose_multi_labels_mobilenet_v2.h5')\n",
    "# load labels binary file\n",
    "_mlb = pickle.loads(open('mlb.pickle', \"rb\").read())"
   ]
  },
  {
   "cell_type": "code",
   "execution_count": 10,
   "metadata": {},
   "outputs": [
    {
     "name": "stdout",
     "output_type": "stream",
     "text": [
      "[0.7822750180297428, 0.8585185101297167]\n"
     ]
    }
   ],
   "source": [
    "# evaluate model\n",
    "print(_model.evaluate_generator(test_generator, steps=steps_test))"
   ]
  },
  {
   "cell_type": "code",
   "execution_count": 12,
   "metadata": {},
   "outputs": [],
   "source": [
    "test_files = get_files_path('./pose_dataset/test_set/bending_h', 'jpg')\n",
    "label_results = []\n",
    "image_tests = []\n",
    "for f in test_files:\n",
    "    img = cv2.imread(f)\n",
    "    cv2.cvtColor(image, cv2.COLOR_BGR2RGB)\n",
    "    image_tests.append(cv2.cvtColor(img, cv2.COLOR_BGR2RGB))\n",
    "    label_results.append(prediction(f, _model, _mlb))"
   ]
  },
  {
   "cell_type": "code",
   "execution_count": null,
   "metadata": {},
   "outputs": [],
   "source": [
    "grid_display(image_tests, label_results, 4)"
   ]
  }
 ],
 "metadata": {
  "kernelspec": {
   "display_name": "Python 3",
   "language": "python",
   "name": "python3"
  },
  "language_info": {
   "codemirror_mode": {
    "name": "ipython",
    "version": 3
   },
   "file_extension": ".py",
   "mimetype": "text/x-python",
   "name": "python",
   "nbconvert_exporter": "python",
   "pygments_lexer": "ipython3",
   "version": "3.5.2"
  }
 },
 "nbformat": 4,
 "nbformat_minor": 2
}
